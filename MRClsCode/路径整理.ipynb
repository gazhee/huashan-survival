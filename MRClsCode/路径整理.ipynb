{
 "cells": [
  {
   "cell_type": "code",
   "execution_count": 2,
   "metadata": {},
   "outputs": [],
   "source": [
    "import pandas as pd\n",
    "import numpy as np\n",
    "import os\n",
    "from utils.img_processing import save_npy, split_train_test\n",
    "from lifelines import KaplanMeierFitter\n",
    "from lifelines.utils import median_survival_times\n",
    "from lifelines.utils import qth_survival_time\n",
    "import matplotlib.pyplot as plt\n",
    "import torch\n",
    "import os\n",
    "import numpy as np\n",
    "import pandas as pd\n",
    "import nibabel as nib\n",
    "import matplotlib.pyplot as plt\n",
    "import SimpleITK as sitk\n",
    "from scipy import ndimage\n",
    "import time\n",
    "import copy\n",
    "from utils.T1Dataset import T1Dataset\n",
    "from utils.img_processing import save_npy,read_npy,gaussian_prob\n",
    "from torch.utils.data import Dataset, DataLoader\n",
    "from torchvision import transforms\n",
    "import torch\n",
    "import torch.nn as nn\n",
    "import torch.optim as optim\n",
    "import torchvision\n",
    "from torchvision import transforms\n",
    "from torch.utils import data\n",
    "import torch.nn.functional as F\n",
    "from torch.optim import lr_scheduler\n",
    "from models.CNN_model import Net1\n",
    "from models.resnet_model import Resnet\n",
    "from utils.unetloss import Meter,BCEDiceLoss\n",
    "from sklearn.preprocessing import StandardScaler\n",
    "from sklearn import preprocessing"
   ]
  },
  {
   "cell_type": "code",
   "execution_count": 6,
   "metadata": {},
   "outputs": [],
   "source": [
    "def choose_dead_patient(df, WHO_value = 4):\n",
    "    df1 = df[(df['status_dead'] == 1) & (df['WHO'] > WHO_value - 1)]\n",
    "    return df1"
   ]
  },
  {
   "cell_type": "code",
   "execution_count": 7,
   "metadata": {},
   "outputs": [],
   "source": [
    "TCGA = pd.read_csv('/root/autodl-tmp/MR_csv/glioma_survival_time_TCGA.csv')\n",
    "TCGA_  = choose_dead_patient(TCGA, WHO_value=3)"
   ]
  },
  {
   "cell_type": "code",
   "execution_count": 9,
   "metadata": {},
   "outputs": [
    {
     "ename": "NameError",
     "evalue": "name 'img_dir' is not defined",
     "output_type": "error",
     "traceback": [
      "\u001b[0;31m---------------------------------------------------------------------------\u001b[0m",
      "\u001b[0;31mNameError\u001b[0m                                 Traceback (most recent call last)",
      "\u001b[1;32m/root/autodl-tmp/code_MR/MRClsCode/路径整理.ipynb 单元格 5\u001b[0m in \u001b[0;36m<cell line: 1>\u001b[0;34m()\u001b[0m\n\u001b[0;32m----> <a href='vscode-notebook-cell://ssh-remote%2Bregion-8.seetacloud.com/root/autodl-tmp/code_MR/MRClsCode/%E8%B7%AF%E5%BE%84%E6%95%B4%E7%90%86.ipynb#W3sdnNjb2RlLXJlbW90ZQ%3D%3D?line=0'>1</a>\u001b[0m train_img, train_mask, train_label, test_img, test_mask, test_label \u001b[39m=\u001b[39m split_train_test(img_dir, mask_dir, label)\n\u001b[1;32m      <a href='vscode-notebook-cell://ssh-remote%2Bregion-8.seetacloud.com/root/autodl-tmp/code_MR/MRClsCode/%E8%B7%AF%E5%BE%84%E6%95%B4%E7%90%86.ipynb#W3sdnNjb2RlLXJlbW90ZQ%3D%3D?line=1'>2</a>\u001b[0m save_path \u001b[39m=\u001b[39m \u001b[39m'\u001b[39m\u001b[39m/root/autodl-tmp/MR_csv/glioma_survive\u001b[39m\u001b[39m'\u001b[39m\n\u001b[1;32m      <a href='vscode-notebook-cell://ssh-remote%2Bregion-8.seetacloud.com/root/autodl-tmp/code_MR/MRClsCode/%E8%B7%AF%E5%BE%84%E6%95%B4%E7%90%86.ipynb#W3sdnNjb2RlLXJlbW90ZQ%3D%3D?line=2'>3</a>\u001b[0m save_npy(os\u001b[39m.\u001b[39mpath\u001b[39m.\u001b[39mjoin(save_path,\u001b[39m'\u001b[39m\u001b[39mWHO4_glioma_TCGA_train_img.npy\u001b[39m\u001b[39m'\u001b[39m), train_img)\n",
      "\u001b[0;31mNameError\u001b[0m: name 'img_dir' is not defined"
     ]
    }
   ],
   "source": [
    "train_img, train_mask, train_label, test_img, test_mask, test_label = split_train_test(img_dir, mask_dir, label)\n",
    "save_path = '/root/autodl-tmp/MR_csv/glioma_survive'\n",
    "save_npy(os.path.join(save_path,'WHO4_glioma_TCGA_train_img.npy'), train_img)\n",
    "save_npy(os.path.join(save_path,'WHO4_glioma_TCGA_train_mask.npy'), train_mask)\n",
    "save_npy(os.path.join(save_path,'WHO4_glioma_TCGA_train_label.npy'), train_label)\n",
    "save_npy(os.path.join(save_path,'WHO4_glioma_TCGA_test_img.npy'), test_img)\n",
    "save_npy(os.path.join(save_path,'WHO4_glioma_TCGA_test_mask.npy'), test_mask)\n",
    "save_npy(os.path.join(save_path,'WHO4_glioma_TCGA_test_label.npy'), test_label)"
   ]
  },
  {
   "cell_type": "code",
   "execution_count": 7,
   "metadata": {},
   "outputs": [],
   "source": [
    "huashan = pd.read_csv('/root/autodl-tmp/MR_csv/glioma_survival_time_Huashan.csv')\n",
    "huashan_  = choose_dead_patient(huashan, WHO_value=3)\n",
    "base_dir = '/root/autodl-tmp/glioma_Huashan'\n",
    "img_dir, mask_dir, label = [], [], []\n",
    "for name in huashan_['name']:\n",
    "    current_dir = os.path.join(base_dir, name + '_T1_CE_1mm')\n",
    "    for file in os.listdir(current_dir):\n",
    "        sub_dir = os.path.join(current_dir, file)\n",
    "        if 'correct' in file:\n",
    "            img_dir.append(sub_dir)\n",
    "        elif 'label' in file:\n",
    "            mask_dir.append(sub_dir)\n",
    "    day = huashan_[huashan_['name'] == name]['survival_day'].values.squeeze().tolist()/365\n",
    "    label.append(day)\n"
   ]
  },
  {
   "cell_type": "code",
   "execution_count": 8,
   "metadata": {},
   "outputs": [
    {
     "data": {
      "text/plain": [
       "(84, 84, 84)"
      ]
     },
     "execution_count": 8,
     "metadata": {},
     "output_type": "execute_result"
    }
   ],
   "source": [
    "len(img_dir), len(mask_dir), len(label)"
   ]
  },
  {
   "cell_type": "code",
   "execution_count": null,
   "metadata": {},
   "outputs": [],
   "source": [
    "def normalize_array(array):\n",
    "    min_value = np.min(array)\n",
    "    max_value = np.max(array)\n",
    "    normalized_array = (array - min_value) / (max_value - min_value)\n",
    "    return normalized_array\n",
    "data = pd.read_csv('/root/autodl-tmp/MR_csv/IDH/gene_TCGA_information.csv')\n",
    "X = data['TOX2'].values\n",
    "X_processing = normalize_array(X)\n",
    "data['TOX2'] = X_processing\n",
    "data.drop_duplicates('name', inplace=True)\n",
    "for mean in data['TOX2']:\n",
    "   x=np.arange(0,1.2,0.1)\n",
    "   y = gaussian_prob(x,mean,0.2)\n",
    "   plt.plot(x,y)\n",
    "   plt.show()"
   ]
  },
  {
   "cell_type": "code",
   "execution_count": 12,
   "metadata": {},
   "outputs": [
    {
     "data": {
      "text/html": [
       "<div>\n",
       "<style scoped>\n",
       "    .dataframe tbody tr th:only-of-type {\n",
       "        vertical-align: middle;\n",
       "    }\n",
       "\n",
       "    .dataframe tbody tr th {\n",
       "        vertical-align: top;\n",
       "    }\n",
       "\n",
       "    .dataframe thead th {\n",
       "        text-align: right;\n",
       "    }\n",
       "</style>\n",
       "<table border=\"1\" class=\"dataframe\">\n",
       "  <thead>\n",
       "    <tr style=\"text-align: right;\">\n",
       "      <th></th>\n",
       "      <th>name</th>\n",
       "      <th>TOX2</th>\n",
       "      <th>survival_day</th>\n",
       "      <th>status_dead</th>\n",
       "    </tr>\n",
       "  </thead>\n",
       "  <tbody>\n",
       "    <tr>\n",
       "      <th>0</th>\n",
       "      <td>TCGA-02-0047</td>\n",
       "      <td>0.641640</td>\n",
       "      <td>448.0</td>\n",
       "      <td>1.0</td>\n",
       "    </tr>\n",
       "    <tr>\n",
       "      <th>1</th>\n",
       "      <td>TCGA-06-0129</td>\n",
       "      <td>0.748673</td>\n",
       "      <td>1024.0</td>\n",
       "      <td>1.0</td>\n",
       "    </tr>\n",
       "    <tr>\n",
       "      <th>2</th>\n",
       "      <td>TCGA-06-0130</td>\n",
       "      <td>0.436552</td>\n",
       "      <td>394.0</td>\n",
       "      <td>1.0</td>\n",
       "    </tr>\n",
       "    <tr>\n",
       "      <th>3</th>\n",
       "      <td>TCGA-06-0138</td>\n",
       "      <td>0.374542</td>\n",
       "      <td>737.0</td>\n",
       "      <td>1.0</td>\n",
       "    </tr>\n",
       "    <tr>\n",
       "      <th>4</th>\n",
       "      <td>TCGA-06-0139</td>\n",
       "      <td>0.180284</td>\n",
       "      <td>362.0</td>\n",
       "      <td>1.0</td>\n",
       "    </tr>\n",
       "    <tr>\n",
       "      <th>...</th>\n",
       "      <td>...</td>\n",
       "      <td>...</td>\n",
       "      <td>...</td>\n",
       "      <td>...</td>\n",
       "    </tr>\n",
       "    <tr>\n",
       "      <th>106</th>\n",
       "      <td>TCGA-DU-5854</td>\n",
       "      <td>0.621363</td>\n",
       "      <td>252.0</td>\n",
       "      <td>0.0</td>\n",
       "    </tr>\n",
       "    <tr>\n",
       "      <th>107</th>\n",
       "      <td>TCGA-DU-6397</td>\n",
       "      <td>0.478810</td>\n",
       "      <td>1380.0</td>\n",
       "      <td>1.0</td>\n",
       "    </tr>\n",
       "    <tr>\n",
       "      <th>109</th>\n",
       "      <td>TCGA-DU-6410</td>\n",
       "      <td>0.646180</td>\n",
       "      <td>240.0</td>\n",
       "      <td>0.0</td>\n",
       "    </tr>\n",
       "    <tr>\n",
       "      <th>110</th>\n",
       "      <td>TCGA-DU-7010</td>\n",
       "      <td>0.722547</td>\n",
       "      <td>450.0</td>\n",
       "      <td>1.0</td>\n",
       "    </tr>\n",
       "    <tr>\n",
       "      <th>111</th>\n",
       "      <td>TCGA-DU-A6S6</td>\n",
       "      <td>0.842888</td>\n",
       "      <td>2337.0</td>\n",
       "      <td>0.0</td>\n",
       "    </tr>\n",
       "  </tbody>\n",
       "</table>\n",
       "<p>108 rows × 4 columns</p>\n",
       "</div>"
      ],
      "text/plain": [
       "             name      TOX2  survival_day  status_dead\n",
       "0    TCGA-02-0047  0.641640         448.0          1.0\n",
       "1    TCGA-06-0129  0.748673        1024.0          1.0\n",
       "2    TCGA-06-0130  0.436552         394.0          1.0\n",
       "3    TCGA-06-0138  0.374542         737.0          1.0\n",
       "4    TCGA-06-0139  0.180284         362.0          1.0\n",
       "..            ...       ...           ...          ...\n",
       "106  TCGA-DU-5854  0.621363         252.0          0.0\n",
       "107  TCGA-DU-6397  0.478810        1380.0          1.0\n",
       "109  TCGA-DU-6410  0.646180         240.0          0.0\n",
       "110  TCGA-DU-7010  0.722547         450.0          1.0\n",
       "111  TCGA-DU-A6S6  0.842888        2337.0          0.0\n",
       "\n",
       "[108 rows x 4 columns]"
      ]
     },
     "execution_count": 12,
     "metadata": {},
     "output_type": "execute_result"
    }
   ],
   "source": [
    "data"
   ]
  },
  {
   "cell_type": "code",
   "execution_count": 70,
   "metadata": {},
   "outputs": [],
   "source": [
    "train_img, train_mask, train_label, test_img, test_mask, test_label = split_train_test(img_dir, mask_dir, label)\n",
    "save_path = '/root/autodl-tmp/MR_csv/glioma_survive'\n",
    "save_npy(os.path.join(save_path,'WHO4_glioma_huashan_train_img.npy'), train_img)\n",
    "save_npy(os.path.join(save_path,'WHO4_glioma_huashan_train_mask.npy'), train_mask)\n",
    "save_npy(os.path.join(save_path,'WHO4_glioma_huashan_train_label.npy'), train_label)\n",
    "save_npy(os.path.join(save_path,'WHO4_glioma_huashan_test_img.npy'), test_img)\n",
    "save_npy(os.path.join(save_path,'WHO4_glioma_huashan_test_mask.npy'), test_mask)\n",
    "save_npy(os.path.join(save_path,'WHO4_glioma_huashan_test_label.npy'), test_label)"
   ]
  },
  {
   "cell_type": "code",
   "execution_count": 13,
   "metadata": {},
   "outputs": [
    {
     "data": {
      "text/plain": [
       "<All keys matched successfully>"
      ]
     },
     "execution_count": 13,
     "metadata": {},
     "output_type": "execute_result"
    }
   ],
   "source": [
    "# 回归模型估计\n",
    "checkpoint = torch.load('/root/autodl-tmp/MR_csv/glioma_survive/best_model1_cnn_predict_day_WHO_4.pth')\n",
    "train_img = read_npy('/root/autodl-tmp/MR_csv/glioma_survive/WHO4_glioma_TCGA_train_img.npy')\n",
    "train_mask = read_npy('/root/autodl-tmp/MR_csv/glioma_survive/WHO4_glioma_TCGA_train_mask.npy')\n",
    "train_label = read_npy('/root/autodl-tmp/MR_csv/glioma_survive/WHO4_glioma_TCGA_train_label.npy')\n",
    "test_img = read_npy('/root/autodl-tmp/MR_csv/glioma_survive/WHO4_glioma_TCGA_test_img.npy')\n",
    "test_mask = read_npy('/root/autodl-tmp/MR_csv/glioma_survive/WHO4_glioma_TCGA_test_mask.npy')\n",
    "test_label = read_npy('/root/autodl-tmp/MR_csv/glioma_survive/WHO4_glioma_TCGA_test_label.npy')\n",
    "\n",
    "    # 建立dataload er\n",
    "train_ds = T1Dataset(train_img,train_mask, train_label)\n",
    "test_ds = T1Dataset(test_img,test_mask, test_label)\n",
    "\n",
    "\n",
    "train_dl = DataLoader(\n",
    "                        train_ds,\n",
    "                        shuffle=True,\n",
    "                        batch_size = 8,\n",
    "    )\n",
    "test_dl = DataLoader(\n",
    "                        test_ds,\n",
    "                        batch_size = 8,\n",
    "    )\n",
    "\n",
    "\n",
    "device = \"cuda\" if torch.cuda.is_available() else \"cpu\"\n",
    "criterion= nn.MSELoss()\n",
    "'''F.binary_cross_entropy_with_logits'''\n",
    "model = Net1()\n",
    "model.to(device)\n",
    "# dir1 = '/root/autodl-tmp/seriouscheckpoint1.pth'\n",
    "model.load_state_dict(checkpoint['state_dict'])"
   ]
  },
  {
   "cell_type": "code",
   "execution_count": 76,
   "metadata": {},
   "outputs": [
    {
     "data": {
      "text/plain": [
       "<All keys matched successfully>"
      ]
     },
     "execution_count": 76,
     "metadata": {},
     "output_type": "execute_result"
    }
   ],
   "source": [
    "# 回归模型估计\n",
    "checkpoint = torch.load('/root/autodl-tmp/MR_csv/glioma_survive/best_model1_cnn_predict_day_WHO_4.pth')\n",
    "train_img = read_npy('/root/autodl-tmp/MR_csv/glioma_survive/WHO4_glioma_huashan_train_img.npy')\n",
    "train_mask = read_npy('/root/autodl-tmp/MR_csv/glioma_survive/WHO4_glioma_huashan_train_mask.npy')\n",
    "train_label = read_npy('/root/autodl-tmp/MR_csv/glioma_survive/WHO4_glioma_huashan_train_label.npy')\n",
    "test_img = read_npy('/root/autodl-tmp/MR_csv/glioma_survive/WHO4_glioma_huashan_test_img.npy')\n",
    "test_mask = read_npy('/root/autodl-tmp/MR_csv/glioma_survive/WHO4_glioma_huashan_test_mask.npy')\n",
    "test_label = read_npy('/root/autodl-tmp/MR_csv/glioma_survive/WHO4_glioma_huashan_test_label.npy')\n",
    "    # 建立dataload er\n",
    "train_ds = T1Dataset(train_img,train_mask, train_label)\n",
    "test_ds = T1Dataset(test_img,test_mask, test_label)\n",
    "\n",
    "\n",
    "train_dl = DataLoader(\n",
    "                        train_ds,\n",
    "                        shuffle=True,\n",
    "                        batch_size = 8,\n",
    "    )\n",
    "test_dl = DataLoader(\n",
    "                        test_ds,\n",
    "                        batch_size = 8,\n",
    "    )\n",
    "\n",
    "\n",
    "device = \"cuda\" if torch.cuda.is_available() else \"cpu\"\n",
    "criterion= nn.MSELoss()\n",
    "'''F.binary_cross_entropy_with_logits'''\n",
    "model = Net1()\n",
    "model.to(device)\n",
    "# dir1 = '/root/autodl-tmp/seriouscheckpoint1.pth'\n",
    "model.load_state_dict(checkpoint['state_dict'])"
   ]
  },
  {
   "cell_type": "code",
   "execution_count": 77,
   "metadata": {},
   "outputs": [
    {
     "name": "stdout",
     "output_type": "stream",
     "text": [
      "tensor([2.1644, 1.1699, 0.3315, 0.9096, 0.8932, 0.0767, 2.7699, 0.4548, 0.9370,\n",
      "        1.2877, 1.0575, 2.7452, 1.0110, 2.2137, 1.0274, 1.2219, 0.6904],\n",
      "       dtype=torch.float64)\n"
     ]
    }
   ],
   "source": [
    "model.eval()\n",
    "with torch.no_grad():\n",
    "    for itr, (images, day) in enumerate(test_dl):\n",
    "        images = images.to(device)\n",
    "        risk_score = model(images.float()).squeeze()\n",
    "        event = torch.tensor(1)\n",
    "        print(day)\n",
    "        if itr == 0:\n",
    "            deep_score_test = risk_score.cpu()\n",
    "            survival_day_test = day\n",
    "        else:\n",
    "            deep_score_test = torch.cat((deep_score_test, risk_score.cpu()),0)\n",
    "            survival_day_test = torch.cat((survival_day_test, day), 0)\n",
    "    for itr, (images, day) in enumerate(train_dl):\n",
    "        images = images.to(device)\n",
    "        risk_score = model(images.float()).squeeze()\n",
    "        if itr == 0:\n",
    "            deep_score_train = risk_score.cpu()\n",
    "            survival_day_train = day\n",
    "        else:\n",
    "            deep_score_train = torch.cat((deep_score_train, risk_score.cpu()),0)\n",
    "            survival_day_train = torch.cat((survival_day_train, day), 0)\n",
    "event_test = torch.ones_like(survival_day_test)\n",
    "event_train = torch.ones_like(survival_day_train)\n",
    "state = {\n",
    "    'survival_day': survival_day_train,\n",
    "    'status_dead': event_train,\n",
    "    'predict_survival_day': deep_score_train.detach().numpy()\n",
    "}\n",
    "train = pd.DataFrame(state)\n",
    "state_test = {\n",
    "    'survival_day': survival_day_test,\n",
    "    'status_dead': event_test,\n",
    "    'predict_survival_day': deep_score_test.detach().numpy()\n",
    "}\n",
    "test = pd.DataFrame(state_test)\n",
    "df1 = pd.concat([train, test])"
   ]
  },
  {
   "cell_type": "code",
   "execution_count": 9,
   "metadata": {},
   "outputs": [],
   "source": [
    "model.eval()\n",
    "with torch.no_grad():\n",
    "    for itr, (images, day) in enumerate(test_dl):\n",
    "        images = images.to(device)\n",
    "        risk_score = model(images.float()).squeeze()\n",
    "        event = torch.tensor(1)\n",
    "        if itr == 0:\n",
    "            deep_score_test = risk_score.cpu()\n",
    "            survival_day_test = day\n",
    "        else:\n",
    "            deep_score_test = torch.cat((deep_score_test, risk_score.cpu()),0)\n",
    "            survival_day_test = torch.cat((survival_day_test, day), 0)\n",
    "    for itr, (images, day) in enumerate(train_dl):\n",
    "        images = images.to(device)\n",
    "        risk_score = model(images.float()).squeeze()\n",
    "        if itr == 0:\n",
    "            deep_score_train = risk_score.cpu()\n",
    "            survival_day_train = day\n",
    "        else:\n",
    "            deep_score_train = torch.cat((deep_score_train, risk_score.cpu()),0)\n",
    "            survival_day_train = torch.cat((survival_day_train, day), 0)\n",
    "event_test = torch.ones_like(survival_day_test)\n",
    "event_train = torch.ones_like(survival_day_train)\n",
    "state = {\n",
    "    'survival_day': survival_day_train,\n",
    "    'status_dead': event_train,\n",
    "    'predict_survival_day': deep_score_train.detach().numpy()\n",
    "}\n",
    "train = pd.DataFrame(state)\n",
    "state_test = {\n",
    "    'survival_day': survival_day_test,\n",
    "    'status_dead': event_test,\n",
    "    'predict_survival_day': deep_score_test.detach().numpy()\n",
    "}\n",
    "test = pd.DataFrame(state_test)\n",
    "df = pd.concat([train, test])\n",
    "df.to_csv(os.path.join('/root/autodl-tmp/MR_csv/glioma_survive', 'CNN_predict_survival_score.csv')) # 改路径"
   ]
  },
  {
   "cell_type": "code",
   "execution_count": 86,
   "metadata": {},
   "outputs": [
    {
     "data": {
      "text/plain": [
       "Text(0.5, 1.0, 'KM_curve')"
      ]
     },
     "execution_count": 86,
     "metadata": {},
     "output_type": "execute_result"
    },
    {
     "data": {
      "image/png": "[encoded data removed]",
      "text/plain": [
       "<Figure size 576x576 with 1 Axes>"
      ]
     },
     "metadata": {
      "needs_background": "light"
     },
     "output_type": "display_data"
    }
   ],
   "source": [
    "plt.figure(figsize=(8,8))\n",
    "kmf = KaplanMeierFitter()\n",
    "kmf.fit(TCGA_[\"survival_day\"]/365, TCGA_[\"status_dead\"], label='Real_TCGA')\n",
    "kmf.plot_survival_function(color = 'r',linestyle='dashed')\n",
    "kmf.fit(huashan_[\"survival_day\"]/365, huashan_[\"status_dead\"], label='Real_huashan')\n",
    "kmf.plot_survival_function(color = 'y',linestyle='dashed')\n",
    "kmf.fit(df[\"predict_survival_day\"], df[\"status_dead\"], label='predict_TCGA')\n",
    "kmf.plot_survival_function(color = 'c')\n",
    "kmf.fit(df1[\"predict_survival_day\"], df1[\"status_dead\"], label='predict_huashan')\n",
    "kmf.plot_survival_function(color = 'b')\n",
    "plt.xlabel('survival_day (yr)')\n",
    "plt.ylabel('survival_probability (%)')\n",
    "plt.title('KM_curve')"
   ]
  },
  {
   "cell_type": "code",
   "execution_count": 88,
   "metadata": {},
   "outputs": [
    {
     "data": {
      "text/html": [
       "<div>\n",
       "<style scoped>\n",
       "    .dataframe tbody tr th:only-of-type {\n",
       "        vertical-align: middle;\n",
       "    }\n",
       "\n",
       "    .dataframe tbody tr th {\n",
       "        vertical-align: top;\n",
       "    }\n",
       "\n",
       "    .dataframe thead th {\n",
       "        text-align: right;\n",
       "    }\n",
       "</style>\n",
       "<table border=\"1\" class=\"dataframe\">\n",
       "  <thead>\n",
       "    <tr style=\"text-align: right;\">\n",
       "      <th></th>\n",
       "      <th>Unnamed: 0</th>\n",
       "      <th>name</th>\n",
       "      <th>survival_day</th>\n",
       "      <th>status</th>\n",
       "      <th>risk</th>\n",
       "    </tr>\n",
       "  </thead>\n",
       "  <tbody>\n",
       "    <tr>\n",
       "      <th>0</th>\n",
       "      <td>0</td>\n",
       "      <td>TCGA-HT-7854</td>\n",
       "      <td>3.246575</td>\n",
       "      <td>0</td>\n",
       "      <td>-2.158190</td>\n",
       "    </tr>\n",
       "    <tr>\n",
       "      <th>1</th>\n",
       "      <td>1</td>\n",
       "      <td>Shi_Yan_Bing</td>\n",
       "      <td>0.690411</td>\n",
       "      <td>1</td>\n",
       "      <td>1.709278</td>\n",
       "    </tr>\n",
       "    <tr>\n",
       "      <th>2</th>\n",
       "      <td>2</td>\n",
       "      <td>TCGA-HT-8012</td>\n",
       "      <td>0.772603</td>\n",
       "      <td>0</td>\n",
       "      <td>-1.054479</td>\n",
       "    </tr>\n",
       "    <tr>\n",
       "      <th>3</th>\n",
       "      <td>3</td>\n",
       "      <td>TCGA-08-0350</td>\n",
       "      <td>2.435616</td>\n",
       "      <td>1</td>\n",
       "      <td>0.271837</td>\n",
       "    </tr>\n",
       "    <tr>\n",
       "      <th>4</th>\n",
       "      <td>4</td>\n",
       "      <td>Yang_Hong_Fei</td>\n",
       "      <td>4.758904</td>\n",
       "      <td>0</td>\n",
       "      <td>-2.520201</td>\n",
       "    </tr>\n",
       "    <tr>\n",
       "      <th>...</th>\n",
       "      <td>...</td>\n",
       "      <td>...</td>\n",
       "      <td>...</td>\n",
       "      <td>...</td>\n",
       "      <td>...</td>\n",
       "    </tr>\n",
       "    <tr>\n",
       "      <th>409</th>\n",
       "      <td>78</td>\n",
       "      <td>TCGA-HT-7881</td>\n",
       "      <td>0.238356</td>\n",
       "      <td>0</td>\n",
       "      <td>-1.779780</td>\n",
       "    </tr>\n",
       "    <tr>\n",
       "      <th>410</th>\n",
       "      <td>79</td>\n",
       "      <td>Chen_Ji_Chong</td>\n",
       "      <td>3.756164</td>\n",
       "      <td>0</td>\n",
       "      <td>-0.004113</td>\n",
       "    </tr>\n",
       "    <tr>\n",
       "      <th>411</th>\n",
       "      <td>80</td>\n",
       "      <td>TCGA-08-0353</td>\n",
       "      <td>0.701370</td>\n",
       "      <td>1</td>\n",
       "      <td>0.960039</td>\n",
       "    </tr>\n",
       "    <tr>\n",
       "      <th>412</th>\n",
       "      <td>81</td>\n",
       "      <td>TCGA-HT-7877</td>\n",
       "      <td>0.008219</td>\n",
       "      <td>0</td>\n",
       "      <td>-1.286174</td>\n",
       "    </tr>\n",
       "    <tr>\n",
       "      <th>413</th>\n",
       "      <td>82</td>\n",
       "      <td>TCGA-06-0127</td>\n",
       "      <td>0.331507</td>\n",
       "      <td>1</td>\n",
       "      <td>1.152929</td>\n",
       "    </tr>\n",
       "  </tbody>\n",
       "</table>\n",
       "<p>414 rows × 5 columns</p>\n",
       "</div>"
      ],
      "text/plain": [
       "     Unnamed: 0           name  survival_day  status      risk\n",
       "0             0   TCGA-HT-7854      3.246575       0 -2.158190\n",
       "1             1   Shi_Yan_Bing      0.690411       1  1.709278\n",
       "2             2   TCGA-HT-8012      0.772603       0 -1.054479\n",
       "3             3   TCGA-08-0350      2.435616       1  0.271837\n",
       "4             4  Yang_Hong_Fei      4.758904       0 -2.520201\n",
       "..          ...            ...           ...     ...       ...\n",
       "409          78   TCGA-HT-7881      0.238356       0 -1.779780\n",
       "410          79  Chen_Ji_Chong      3.756164       0 -0.004113\n",
       "411          80   TCGA-08-0353      0.701370       1  0.960039\n",
       "412          81   TCGA-HT-7877      0.008219       0 -1.286174\n",
       "413          82   TCGA-06-0127      0.331507       1  1.152929\n",
       "\n",
       "[414 rows x 5 columns]"
      ]
     },
     "execution_count": 88,
     "metadata": {},
     "output_type": "execute_result"
    }
   ],
   "source": [
    "pd.read_csv('/root/autodl-tmp/MR_csv/glioma_survive/CNN_risk_score1.csv')"
   ]
  },
  {
   "cell_type": "code",
   "execution_count": 35,
   "metadata": {},
   "outputs": [],
   "source": [
    "train_img, train_mask, train_label, test_img, test_mask, test_label = split_train_test(img_dir, mask_dir, label)\n",
    "save_path = '/root/autodl-tmp/MR_csv/glioma_survive'\n",
    "save_npy(os.path.join(save_path,'WHO4_glioma_TCGA_train_img.npy'), train_img)\n",
    "save_npy(os.path.join(save_path,'WHO4_glioma_TCGA_train_mask.npy'), train_mask)\n",
    "save_npy(os.path.join(save_path,'WHO4_glioma_TCGA_train_label.npy'), train_label)\n",
    "save_npy(os.path.join(save_path,'WHO4_glioma_TCGA_test_img.npy'), test_img)\n",
    "save_npy(os.path.join(save_path,'WHO4_glioma_TCGA_test_mask.npy'), test_mask)\n",
    "save_npy(os.path.join(save_path,'WHO4_glioma_TCGA_test_label.npy'), test_label)"
   ]
  },
  {
   "cell_type": "code",
   "execution_count": 42,
   "metadata": {},
   "outputs": [],
   "source": [
    "import torch\n",
    "import torch.nn as nn\n",
    "import torch.optim as optim\n",
    "import numpy as np\n",
    "import matplotlib.pyplot as plt\n",
    "num_samples = 1000\n",
    "input_size = 64\n",
    "num_keypoints = 5\n",
    "\n",
    "# 生成随机图像作为输入数据\n",
    "input_data = torch.randn(num_samples, 1, input_size, input_size)\n",
    "\n",
    "# 生成随机关键点位置\n",
    "keypoint_coords = torch.randint(low=0, high=input_size, size=(num_samples, num_keypoints, 2)).float()\n",
    "\n",
    "# 生成对应的热力图\n",
    "heatmap = torch.zeros(num_samples, num_keypoints, input_size, input_size)\n",
    "for i in range(num_samples):\n",
    "    for j in range(num_keypoints):\n",
    "        x, y = keypoint_coords[i, j]\n",
    "        heatmap[i, j, int(x), int(y)] = 1\n"
   ]
  },
  {
   "cell_type": "code",
   "execution_count": 18,
   "metadata": {},
   "outputs": [
    {
     "data": {
      "text/plain": [
       "0       8.962896\n",
       "1       9.903882\n",
       "2       7.159871\n",
       "3       6.614710\n",
       "4       4.906891\n",
       "         ...    \n",
       "107     7.531381\n",
       "108     7.434628\n",
       "109     9.002815\n",
       "110     9.674192\n",
       "111    10.732167\n",
       "Name: TOX2, Length: 112, dtype: float64"
      ]
     },
     "execution_count": 18,
     "metadata": {},
     "output_type": "execute_result"
    }
   ],
   "source": [
    "data = pd.read_csv('/root/autodl-tmp/MR_csv/IDH/gene_TCGA_information.csv')\n",
    "data['TOX2']"
   ]
  },
  {
   "cell_type": "code",
   "execution_count": 11,
   "metadata": {},
   "outputs": [
    {
     "data": {
      "image/png": "[encoded data removed]",
      "text/plain": [
       "<Figure size 432x288 with 1 Axes>"
      ]
     },
     "metadata": {
      "needs_background": "light"
     },
     "output_type": "display_data"
    },
    {
     "data": {
      "image/png": "[encoded data removed]",
      "text/plain": [
       "<Figure size 432x288 with 1 Axes>"
      ]
     },
     "metadata": {
      "needs_background": "light"
     },
     "output_type": "display_data"
    },
    {
     "data": {
      "image/png": "[encoded data removed]",
      "text/plain": [
       "<Figure size 432x288 with 1 Axes>"
      ]
     },
     "metadata": {
      "needs_background": "light"
     },
     "output_type": "display_data"
    },
    {
     "data": {
      "image/png": "[encoded data removed]",
      "text/plain": [
       "<Figure size 432x288 with 1 Axes>"
      ]
     },
     "metadata": {
      "needs_background": "light"
     },
     "output_type": "display_data"
    },
    {
     "data": {
      "image/png": "[encoded data removed]",
      "text/plain": [
       "<Figure size 432x288 with 1 Axes>"
      ]
     },
     "metadata": {
      "needs_background": "light"
     },
     "output_type": "display_data"
    },
    {
     "data": {
      "image/png": "[encoded data removed]",
      "text/plain": [
       "<Figure size 432x288 with 1 Axes>"
      ]
     },
     "metadata": {
      "needs_background": "light"
     },
     "output_type": "display_data"
    },
    {
     "ename": "KeyboardInterrupt",
     "evalue": "",
     "output_type": "error",
     "traceback": [
      "\u001b[0;31m---------------------------------------------------------------------------\u001b[0m",
      "\u001b[0;31mKeyboardInterrupt\u001b[0m                         Traceback (most recent call last)",
      "\u001b[1;32m/root/autodl-tmp/code_MR/MRClsCode/路径整理.ipynb 单元格 18\u001b[0m in \u001b[0;36m<cell line: 11>\u001b[0;34m()\u001b[0m\n\u001b[1;32m     <a href='vscode-notebook-cell://ssh-remote%2Bregion-8.seetacloud.com/root/autodl-tmp/code_MR/MRClsCode/%E8%B7%AF%E5%BE%84%E6%95%B4%E7%90%86.ipynb#X23sdnNjb2RlLXJlbW90ZQ%3D%3D?line=11'>12</a>\u001b[0m x\u001b[39m=\u001b[39mnp\u001b[39m.\u001b[39marange(\u001b[39m0\u001b[39m,\u001b[39m1.2\u001b[39m,\u001b[39m0.1\u001b[39m)\n\u001b[1;32m     <a href='vscode-notebook-cell://ssh-remote%2Bregion-8.seetacloud.com/root/autodl-tmp/code_MR/MRClsCode/%E8%B7%AF%E5%BE%84%E6%95%B4%E7%90%86.ipynb#X23sdnNjb2RlLXJlbW90ZQ%3D%3D?line=12'>13</a>\u001b[0m y \u001b[39m=\u001b[39m gaussian_prob(x,mean,\u001b[39m0.2\u001b[39m)\n\u001b[0;32m---> <a href='vscode-notebook-cell://ssh-remote%2Bregion-8.seetacloud.com/root/autodl-tmp/code_MR/MRClsCode/%E8%B7%AF%E5%BE%84%E6%95%B4%E7%90%86.ipynb#X23sdnNjb2RlLXJlbW90ZQ%3D%3D?line=13'>14</a>\u001b[0m plt\u001b[39m.\u001b[39;49mplot(x,y)\n\u001b[1;32m     <a href='vscode-notebook-cell://ssh-remote%2Bregion-8.seetacloud.com/root/autodl-tmp/code_MR/MRClsCode/%E8%B7%AF%E5%BE%84%E6%95%B4%E7%90%86.ipynb#X23sdnNjb2RlLXJlbW90ZQ%3D%3D?line=14'>15</a>\u001b[0m plt\u001b[39m.\u001b[39mshow()\n",
      "File \u001b[0;32m~/miniconda3/lib/python3.8/site-packages/matplotlib/pyplot.py:2769\u001b[0m, in \u001b[0;36mplot\u001b[0;34m(scalex, scaley, data, *args, **kwargs)\u001b[0m\n\u001b[1;32m   2767\u001b[0m \u001b[39m@_copy_docstring_and_deprecators\u001b[39m(Axes\u001b[39m.\u001b[39mplot)\n\u001b[1;32m   2768\u001b[0m \u001b[39mdef\u001b[39;00m \u001b[39mplot\u001b[39m(\u001b[39m*\u001b[39margs, scalex\u001b[39m=\u001b[39m\u001b[39mTrue\u001b[39;00m, scaley\u001b[39m=\u001b[39m\u001b[39mTrue\u001b[39;00m, data\u001b[39m=\u001b[39m\u001b[39mNone\u001b[39;00m, \u001b[39m*\u001b[39m\u001b[39m*\u001b[39mkwargs):\n\u001b[0;32m-> 2769\u001b[0m     \u001b[39mreturn\u001b[39;00m gca()\u001b[39m.\u001b[39mplot(\n\u001b[1;32m   2770\u001b[0m         \u001b[39m*\u001b[39margs, scalex\u001b[39m=\u001b[39mscalex, scaley\u001b[39m=\u001b[39mscaley,\n\u001b[1;32m   2771\u001b[0m         \u001b[39m*\u001b[39m\u001b[39m*\u001b[39m({\u001b[39m\"\u001b[39m\u001b[39mdata\u001b[39m\u001b[39m\"\u001b[39m: data} \u001b[39mif\u001b[39;00m data \u001b[39mis\u001b[39;00m \u001b[39mnot\u001b[39;00m \u001b[39mNone\u001b[39;00m \u001b[39melse\u001b[39;00m {}), \u001b[39m*\u001b[39m\u001b[39m*\u001b[39mkwargs)\n",
      "File \u001b[0;32m~/miniconda3/lib/python3.8/site-packages/matplotlib/pyplot.py:2274\u001b[0m, in \u001b[0;36mgca\u001b[0;34m(**kwargs)\u001b[0m\n\u001b[1;32m   2272\u001b[0m \u001b[39m@_copy_docstring_and_deprecators\u001b[39m(Figure\u001b[39m.\u001b[39mgca)\n\u001b[1;32m   2273\u001b[0m \u001b[39mdef\u001b[39;00m \u001b[39mgca\u001b[39m(\u001b[39m*\u001b[39m\u001b[39m*\u001b[39mkwargs):\n\u001b[0;32m-> 2274\u001b[0m     \u001b[39mreturn\u001b[39;00m gcf()\u001b[39m.\u001b[39;49mgca(\u001b[39m*\u001b[39;49m\u001b[39m*\u001b[39;49mkwargs)\n",
      "File \u001b[0;32m~/miniconda3/lib/python3.8/site-packages/matplotlib/figure.py:1567\u001b[0m, in \u001b[0;36mFigureBase.gca\u001b[0;34m(self, **kwargs)\u001b[0m\n\u001b[1;32m   1557\u001b[0m     _api\u001b[39m.\u001b[39mwarn_deprecated(\n\u001b[1;32m   1558\u001b[0m         \u001b[39m\"\u001b[39m\u001b[39m3.4\u001b[39m\u001b[39m\"\u001b[39m,\n\u001b[1;32m   1559\u001b[0m         message\u001b[39m=\u001b[39m\u001b[39m\"\u001b[39m\u001b[39mCalling gca() with keyword arguments was deprecated \u001b[39m\u001b[39m\"\u001b[39m\n\u001b[0;32m   (...)\u001b[0m\n\u001b[1;32m   1564\u001b[0m         \u001b[39m\"\u001b[39m\u001b[39maxes with non-default arguments, use plt.axes() or \u001b[39m\u001b[39m\"\u001b[39m\n\u001b[1;32m   1565\u001b[0m         \u001b[39m\"\u001b[39m\u001b[39mplt.subplot().\u001b[39m\u001b[39m\"\u001b[39m)\n\u001b[1;32m   1566\u001b[0m \u001b[39mif\u001b[39;00m \u001b[39mself\u001b[39m\u001b[39m.\u001b[39m_axstack\u001b[39m.\u001b[39mempty():\n\u001b[0;32m-> 1567\u001b[0m     \u001b[39mreturn\u001b[39;00m \u001b[39mself\u001b[39;49m\u001b[39m.\u001b[39;49madd_subplot(\u001b[39m1\u001b[39;49m, \u001b[39m1\u001b[39;49m, \u001b[39m1\u001b[39;49m, \u001b[39m*\u001b[39;49m\u001b[39m*\u001b[39;49mkwargs)\n\u001b[1;32m   1568\u001b[0m \u001b[39melse\u001b[39;00m:\n\u001b[1;32m   1569\u001b[0m     \u001b[39mreturn\u001b[39;00m \u001b[39mself\u001b[39m\u001b[39m.\u001b[39m_axstack()\n",
      "File \u001b[0;32m~/miniconda3/lib/python3.8/site-packages/matplotlib/figure.py:772\u001b[0m, in \u001b[0;36mFigureBase.add_subplot\u001b[0;34m(self, *args, **kwargs)\u001b[0m\n\u001b[1;32m    769\u001b[0m         args \u001b[39m=\u001b[39m \u001b[39mtuple\u001b[39m(\u001b[39mmap\u001b[39m(\u001b[39mint\u001b[39m, \u001b[39mstr\u001b[39m(args[\u001b[39m0\u001b[39m])))\n\u001b[1;32m    770\u001b[0m     projection_class, pkw \u001b[39m=\u001b[39m \u001b[39mself\u001b[39m\u001b[39m.\u001b[39m_process_projection_requirements(\n\u001b[1;32m    771\u001b[0m         \u001b[39m*\u001b[39margs, \u001b[39m*\u001b[39m\u001b[39m*\u001b[39mkwargs)\n\u001b[0;32m--> 772\u001b[0m     ax \u001b[39m=\u001b[39m subplot_class_factory(projection_class)(\u001b[39mself\u001b[39;49m, \u001b[39m*\u001b[39;49margs, \u001b[39m*\u001b[39;49m\u001b[39m*\u001b[39;49mpkw)\n\u001b[1;32m    773\u001b[0m     key \u001b[39m=\u001b[39m (projection_class, pkw)\n\u001b[1;32m    774\u001b[0m \u001b[39mreturn\u001b[39;00m \u001b[39mself\u001b[39m\u001b[39m.\u001b[39m_add_axes_internal(ax, key)\n",
      "File \u001b[0;32m~/miniconda3/lib/python3.8/site-packages/matplotlib/axes/_subplots.py:34\u001b[0m, in \u001b[0;36mSubplotBase.__init__\u001b[0;34m(self, fig, *args, **kwargs)\u001b[0m\n\u001b[1;32m     15\u001b[0m \u001b[39m\"\"\"\u001b[39;00m\n\u001b[1;32m     16\u001b[0m \u001b[39mParameters\u001b[39;00m\n\u001b[1;32m     17\u001b[0m \u001b[39m----------\u001b[39;00m\n\u001b[0;32m   (...)\u001b[0m\n\u001b[1;32m     31\u001b[0m \u001b[39m    Keyword arguments are passed to the Axes (sub)class constructor.\u001b[39;00m\n\u001b[1;32m     32\u001b[0m \u001b[39m\"\"\"\u001b[39;00m\n\u001b[1;32m     33\u001b[0m \u001b[39m# _axes_class is set in the subplot_class_factory\u001b[39;00m\n\u001b[0;32m---> 34\u001b[0m \u001b[39mself\u001b[39;49m\u001b[39m.\u001b[39;49m_axes_class\u001b[39m.\u001b[39;49m\u001b[39m__init__\u001b[39;49m(\u001b[39mself\u001b[39;49m, fig, [\u001b[39m0\u001b[39;49m, \u001b[39m0\u001b[39;49m, \u001b[39m1\u001b[39;49m, \u001b[39m1\u001b[39;49m], \u001b[39m*\u001b[39;49m\u001b[39m*\u001b[39;49mkwargs)\n\u001b[1;32m     35\u001b[0m \u001b[39m# This will also update the axes position.\u001b[39;00m\n\u001b[1;32m     36\u001b[0m \u001b[39mself\u001b[39m\u001b[39m.\u001b[39mset_subplotspec(SubplotSpec\u001b[39m.\u001b[39m_from_subplot_args(fig, args))\n",
      "File \u001b[0;32m~/miniconda3/lib/python3.8/site-packages/matplotlib/_api/deprecation.py:459\u001b[0m, in \u001b[0;36mmake_keyword_only.<locals>.wrapper\u001b[0;34m(*args, **kwargs)\u001b[0m\n\u001b[1;32m    453\u001b[0m \u001b[39mif\u001b[39;00m \u001b[39mlen\u001b[39m(args) \u001b[39m>\u001b[39m name_idx:\n\u001b[1;32m    454\u001b[0m     warn_deprecated(\n\u001b[1;32m    455\u001b[0m         since, message\u001b[39m=\u001b[39m\u001b[39m\"\u001b[39m\u001b[39mPassing the \u001b[39m\u001b[39m%(name)s\u001b[39;00m\u001b[39m \u001b[39m\u001b[39m%(obj_type)s\u001b[39;00m\u001b[39m \u001b[39m\u001b[39m\"\u001b[39m\n\u001b[1;32m    456\u001b[0m         \u001b[39m\"\u001b[39m\u001b[39mpositionally is deprecated since Matplotlib \u001b[39m\u001b[39m%(since)s\u001b[39;00m\u001b[39m; the \u001b[39m\u001b[39m\"\u001b[39m\n\u001b[1;32m    457\u001b[0m         \u001b[39m\"\u001b[39m\u001b[39mparameter will become keyword-only \u001b[39m\u001b[39m%(removal)s\u001b[39;00m\u001b[39m.\u001b[39m\u001b[39m\"\u001b[39m,\n\u001b[1;32m    458\u001b[0m         name\u001b[39m=\u001b[39mname, obj_type\u001b[39m=\u001b[39m\u001b[39mf\u001b[39m\u001b[39m\"\u001b[39m\u001b[39mparameter of \u001b[39m\u001b[39m{\u001b[39;00mfunc\u001b[39m.\u001b[39m\u001b[39m__name__\u001b[39m\u001b[39m}\u001b[39;00m\u001b[39m()\u001b[39m\u001b[39m\"\u001b[39m)\n\u001b[0;32m--> 459\u001b[0m \u001b[39mreturn\u001b[39;00m func(\u001b[39m*\u001b[39;49margs, \u001b[39m*\u001b[39;49m\u001b[39m*\u001b[39;49mkwargs)\n",
      "File \u001b[0;32m~/miniconda3/lib/python3.8/site-packages/matplotlib/axes/_base.py:632\u001b[0m, in \u001b[0;36m_AxesBase.__init__\u001b[0;34m(self, fig, rect, facecolor, frameon, sharex, sharey, label, xscale, yscale, box_aspect, **kwargs)\u001b[0m\n\u001b[1;32m    629\u001b[0m \u001b[39mself\u001b[39m\u001b[39m.\u001b[39mset_axisbelow(mpl\u001b[39m.\u001b[39mrcParams[\u001b[39m'\u001b[39m\u001b[39maxes.axisbelow\u001b[39m\u001b[39m'\u001b[39m])\n\u001b[1;32m    631\u001b[0m \u001b[39mself\u001b[39m\u001b[39m.\u001b[39m_rasterization_zorder \u001b[39m=\u001b[39m \u001b[39mNone\u001b[39;00m\n\u001b[0;32m--> 632\u001b[0m \u001b[39mself\u001b[39;49m\u001b[39m.\u001b[39;49mcla()\n\u001b[1;32m    634\u001b[0m \u001b[39m# funcs used to format x and y - fall back on major formatters\u001b[39;00m\n\u001b[1;32m    635\u001b[0m \u001b[39mself\u001b[39m\u001b[39m.\u001b[39mfmt_xdata \u001b[39m=\u001b[39m \u001b[39mNone\u001b[39;00m\n",
      "File \u001b[0;32m~/miniconda3/lib/python3.8/site-packages/matplotlib/axes/_base.py:1250\u001b[0m, in \u001b[0;36m_AxesBase.cla\u001b[0;34m(self)\u001b[0m\n\u001b[1;32m   1247\u001b[0m \u001b[39mself\u001b[39m\u001b[39m.\u001b[39mlegend_ \u001b[39m=\u001b[39m \u001b[39mNone\u001b[39;00m\n\u001b[1;32m   1248\u001b[0m \u001b[39mself\u001b[39m\u001b[39m.\u001b[39mcontainers \u001b[39m=\u001b[39m []\n\u001b[0;32m-> 1250\u001b[0m \u001b[39mself\u001b[39;49m\u001b[39m.\u001b[39;49mgrid(\u001b[39mFalse\u001b[39;49;00m)  \u001b[39m# Disable grid on init to use rcParameter\u001b[39;00m\n\u001b[1;32m   1251\u001b[0m \u001b[39mself\u001b[39m\u001b[39m.\u001b[39mgrid(\u001b[39mself\u001b[39m\u001b[39m.\u001b[39m_gridOn, which\u001b[39m=\u001b[39mmpl\u001b[39m.\u001b[39mrcParams[\u001b[39m'\u001b[39m\u001b[39maxes.grid.which\u001b[39m\u001b[39m'\u001b[39m],\n\u001b[1;32m   1252\u001b[0m           axis\u001b[39m=\u001b[39mmpl\u001b[39m.\u001b[39mrcParams[\u001b[39m'\u001b[39m\u001b[39maxes.grid.axis\u001b[39m\u001b[39m'\u001b[39m])\n\u001b[1;32m   1253\u001b[0m props \u001b[39m=\u001b[39m font_manager\u001b[39m.\u001b[39mFontProperties(\n\u001b[1;32m   1254\u001b[0m     size\u001b[39m=\u001b[39mmpl\u001b[39m.\u001b[39mrcParams[\u001b[39m'\u001b[39m\u001b[39maxes.titlesize\u001b[39m\u001b[39m'\u001b[39m],\n\u001b[1;32m   1255\u001b[0m     weight\u001b[39m=\u001b[39mmpl\u001b[39m.\u001b[39mrcParams[\u001b[39m'\u001b[39m\u001b[39maxes.titleweight\u001b[39m\u001b[39m'\u001b[39m])\n",
      "File \u001b[0;32m~/miniconda3/lib/python3.8/site-packages/matplotlib/_api/deprecation.py:302\u001b[0m, in \u001b[0;36mrename_parameter.<locals>.wrapper\u001b[0;34m(*args, **kwargs)\u001b[0m\n\u001b[1;32m    297\u001b[0m     warn_deprecated(\n\u001b[1;32m    298\u001b[0m         since, message\u001b[39m=\u001b[39m\u001b[39mf\u001b[39m\u001b[39m\"\u001b[39m\u001b[39mThe \u001b[39m\u001b[39m{\u001b[39;00mold\u001b[39m!r}\u001b[39;00m\u001b[39m parameter of \u001b[39m\u001b[39m{\u001b[39;00mfunc\u001b[39m.\u001b[39m\u001b[39m__name__\u001b[39m\u001b[39m}\u001b[39;00m\u001b[39m() \u001b[39m\u001b[39m\"\u001b[39m\n\u001b[1;32m    299\u001b[0m         \u001b[39mf\u001b[39m\u001b[39m\"\u001b[39m\u001b[39mhas been renamed \u001b[39m\u001b[39m{\u001b[39;00mnew\u001b[39m!r}\u001b[39;00m\u001b[39m since Matplotlib \u001b[39m\u001b[39m{\u001b[39;00msince\u001b[39m}\u001b[39;00m\u001b[39m; support \u001b[39m\u001b[39m\"\u001b[39m\n\u001b[1;32m    300\u001b[0m         \u001b[39mf\u001b[39m\u001b[39m\"\u001b[39m\u001b[39mfor the old name will be dropped %(removal)s.\u001b[39m\u001b[39m\"\u001b[39m)\n\u001b[1;32m    301\u001b[0m     kwargs[new] \u001b[39m=\u001b[39m kwargs\u001b[39m.\u001b[39mpop(old)\n\u001b[0;32m--> 302\u001b[0m \u001b[39mreturn\u001b[39;00m func(\u001b[39m*\u001b[39;49margs, \u001b[39m*\u001b[39;49m\u001b[39m*\u001b[39;49mkwargs)\n",
      "File \u001b[0;32m~/miniconda3/lib/python3.8/site-packages/matplotlib/axes/_base.py:3235\u001b[0m, in \u001b[0;36m_AxesBase.grid\u001b[0;34m(self, visible, which, axis, **kwargs)\u001b[0m\n\u001b[1;32m   3233\u001b[0m _api\u001b[39m.\u001b[39mcheck_in_list([\u001b[39m'\u001b[39m\u001b[39mx\u001b[39m\u001b[39m'\u001b[39m, \u001b[39m'\u001b[39m\u001b[39my\u001b[39m\u001b[39m'\u001b[39m, \u001b[39m'\u001b[39m\u001b[39mboth\u001b[39m\u001b[39m'\u001b[39m], axis\u001b[39m=\u001b[39maxis)\n\u001b[1;32m   3234\u001b[0m \u001b[39mif\u001b[39;00m axis \u001b[39min\u001b[39;00m [\u001b[39m'\u001b[39m\u001b[39mx\u001b[39m\u001b[39m'\u001b[39m, \u001b[39m'\u001b[39m\u001b[39mboth\u001b[39m\u001b[39m'\u001b[39m]:\n\u001b[0;32m-> 3235\u001b[0m     \u001b[39mself\u001b[39;49m\u001b[39m.\u001b[39;49mxaxis\u001b[39m.\u001b[39;49mgrid(visible, which\u001b[39m=\u001b[39;49mwhich, \u001b[39m*\u001b[39;49m\u001b[39m*\u001b[39;49mkwargs)\n\u001b[1;32m   3236\u001b[0m \u001b[39mif\u001b[39;00m axis \u001b[39min\u001b[39;00m [\u001b[39m'\u001b[39m\u001b[39my\u001b[39m\u001b[39m'\u001b[39m, \u001b[39m'\u001b[39m\u001b[39mboth\u001b[39m\u001b[39m'\u001b[39m]:\n\u001b[1;32m   3237\u001b[0m     \u001b[39mself\u001b[39m\u001b[39m.\u001b[39myaxis\u001b[39m.\u001b[39mgrid(visible, which\u001b[39m=\u001b[39mwhich, \u001b[39m*\u001b[39m\u001b[39m*\u001b[39mkwargs)\n",
      "File \u001b[0;32m~/miniconda3/lib/python3.8/site-packages/matplotlib/_api/deprecation.py:302\u001b[0m, in \u001b[0;36mrename_parameter.<locals>.wrapper\u001b[0;34m(*args, **kwargs)\u001b[0m\n\u001b[1;32m    297\u001b[0m     warn_deprecated(\n\u001b[1;32m    298\u001b[0m         since, message\u001b[39m=\u001b[39m\u001b[39mf\u001b[39m\u001b[39m\"\u001b[39m\u001b[39mThe \u001b[39m\u001b[39m{\u001b[39;00mold\u001b[39m!r}\u001b[39;00m\u001b[39m parameter of \u001b[39m\u001b[39m{\u001b[39;00mfunc\u001b[39m.\u001b[39m\u001b[39m__name__\u001b[39m\u001b[39m}\u001b[39;00m\u001b[39m() \u001b[39m\u001b[39m\"\u001b[39m\n\u001b[1;32m    299\u001b[0m         \u001b[39mf\u001b[39m\u001b[39m\"\u001b[39m\u001b[39mhas been renamed \u001b[39m\u001b[39m{\u001b[39;00mnew\u001b[39m!r}\u001b[39;00m\u001b[39m since Matplotlib \u001b[39m\u001b[39m{\u001b[39;00msince\u001b[39m}\u001b[39;00m\u001b[39m; support \u001b[39m\u001b[39m\"\u001b[39m\n\u001b[1;32m    300\u001b[0m         \u001b[39mf\u001b[39m\u001b[39m\"\u001b[39m\u001b[39mfor the old name will be dropped %(removal)s.\u001b[39m\u001b[39m\"\u001b[39m)\n\u001b[1;32m    301\u001b[0m     kwargs[new] \u001b[39m=\u001b[39m kwargs\u001b[39m.\u001b[39mpop(old)\n\u001b[0;32m--> 302\u001b[0m \u001b[39mreturn\u001b[39;00m func(\u001b[39m*\u001b[39;49margs, \u001b[39m*\u001b[39;49m\u001b[39m*\u001b[39;49mkwargs)\n",
      "File \u001b[0;32m~/miniconda3/lib/python3.8/site-packages/matplotlib/axis.py:1434\u001b[0m, in \u001b[0;36mAxis.grid\u001b[0;34m(self, visible, which, **kwargs)\u001b[0m\n\u001b[1;32m   1431\u001b[0m \u001b[39mif\u001b[39;00m which \u001b[39min\u001b[39;00m [\u001b[39m'\u001b[39m\u001b[39mmajor\u001b[39m\u001b[39m'\u001b[39m, \u001b[39m'\u001b[39m\u001b[39mboth\u001b[39m\u001b[39m'\u001b[39m]:\n\u001b[1;32m   1432\u001b[0m     gridkw[\u001b[39m'\u001b[39m\u001b[39mgridOn\u001b[39m\u001b[39m'\u001b[39m] \u001b[39m=\u001b[39m (\u001b[39mnot\u001b[39;00m \u001b[39mself\u001b[39m\u001b[39m.\u001b[39m_major_tick_kw[\u001b[39m'\u001b[39m\u001b[39mgridOn\u001b[39m\u001b[39m'\u001b[39m]\n\u001b[1;32m   1433\u001b[0m                         \u001b[39mif\u001b[39;00m visible \u001b[39mis\u001b[39;00m \u001b[39mNone\u001b[39;00m \u001b[39melse\u001b[39;00m visible)\n\u001b[0;32m-> 1434\u001b[0m     \u001b[39mself\u001b[39;49m\u001b[39m.\u001b[39;49mset_tick_params(which\u001b[39m=\u001b[39;49m\u001b[39m'\u001b[39;49m\u001b[39mmajor\u001b[39;49m\u001b[39m'\u001b[39;49m, \u001b[39m*\u001b[39;49m\u001b[39m*\u001b[39;49mgridkw)\n\u001b[1;32m   1435\u001b[0m \u001b[39mself\u001b[39m\u001b[39m.\u001b[39mstale \u001b[39m=\u001b[39m \u001b[39mTrue\u001b[39;00m\n",
      "File \u001b[0;32m~/miniconda3/lib/python3.8/site-packages/matplotlib/axis.py:873\u001b[0m, in \u001b[0;36mAxis.set_tick_params\u001b[0;34m(self, which, reset, **kw)\u001b[0m\n\u001b[1;32m    871\u001b[0m \u001b[39mif\u001b[39;00m which \u001b[39min\u001b[39;00m [\u001b[39m'\u001b[39m\u001b[39mmajor\u001b[39m\u001b[39m'\u001b[39m, \u001b[39m'\u001b[39m\u001b[39mboth\u001b[39m\u001b[39m'\u001b[39m]:\n\u001b[1;32m    872\u001b[0m     \u001b[39mself\u001b[39m\u001b[39m.\u001b[39m_major_tick_kw\u001b[39m.\u001b[39mupdate(kwtrans)\n\u001b[0;32m--> 873\u001b[0m     \u001b[39mfor\u001b[39;00m tick \u001b[39min\u001b[39;00m \u001b[39mself\u001b[39;49m\u001b[39m.\u001b[39;49mmajorTicks:\n\u001b[1;32m    874\u001b[0m         tick\u001b[39m.\u001b[39m_apply_params(\u001b[39m*\u001b[39m\u001b[39m*\u001b[39mkwtrans)\n\u001b[1;32m    875\u001b[0m \u001b[39mif\u001b[39;00m which \u001b[39min\u001b[39;00m [\u001b[39m'\u001b[39m\u001b[39mminor\u001b[39m\u001b[39m'\u001b[39m, \u001b[39m'\u001b[39m\u001b[39mboth\u001b[39m\u001b[39m'\u001b[39m]:\n",
      "File \u001b[0;32m~/miniconda3/lib/python3.8/site-packages/matplotlib/axis.py:593\u001b[0m, in \u001b[0;36m_LazyTickList.__get__\u001b[0;34m(self, instance, cls)\u001b[0m\n\u001b[1;32m    591\u001b[0m     instance\u001b[39m.\u001b[39mmajorTicks \u001b[39m=\u001b[39m []\n\u001b[1;32m    592\u001b[0m     tick \u001b[39m=\u001b[39m instance\u001b[39m.\u001b[39m_get_tick(major\u001b[39m=\u001b[39m\u001b[39mTrue\u001b[39;00m)\n\u001b[0;32m--> 593\u001b[0m     instance\u001b[39m.\u001b[39;49mmajorTicks\u001b[39m.\u001b[39mappend(tick)\n\u001b[1;32m    594\u001b[0m     \u001b[39mreturn\u001b[39;00m instance\u001b[39m.\u001b[39mmajorTicks\n\u001b[1;32m    595\u001b[0m \u001b[39melse\u001b[39;00m:\n",
      "File \u001b[0;32m~/miniconda3/lib/python3.8/site-packages/matplotlib/axis.py:592\u001b[0m, in \u001b[0;36m_LazyTickList.__get__\u001b[0;34m(self, instance, cls)\u001b[0m\n\u001b[1;32m    590\u001b[0m \u001b[39mif\u001b[39;00m \u001b[39mself\u001b[39m\u001b[39m.\u001b[39m_major:\n\u001b[1;32m    591\u001b[0m     instance\u001b[39m.\u001b[39mmajorTicks \u001b[39m=\u001b[39m []\n\u001b[0;32m--> 592\u001b[0m     tick \u001b[39m=\u001b[39m instance\u001b[39m.\u001b[39;49m_get_tick(major\u001b[39m=\u001b[39;49m\u001b[39mTrue\u001b[39;49;00m)\n\u001b[1;32m    593\u001b[0m     instance\u001b[39m.\u001b[39mmajorTicks\u001b[39m.\u001b[39mappend(tick)\n\u001b[1;32m    594\u001b[0m     \u001b[39mreturn\u001b[39;00m instance\u001b[39m.\u001b[39mmajorTicks\n",
      "File \u001b[0;32m~/miniconda3/lib/python3.8/site-packages/matplotlib/axis.py:2057\u001b[0m, in \u001b[0;36mXAxis._get_tick\u001b[0;34m(self, major)\u001b[0m\n\u001b[1;32m   2055\u001b[0m \u001b[39melse\u001b[39;00m:\n\u001b[1;32m   2056\u001b[0m     tick_kw \u001b[39m=\u001b[39m \u001b[39mself\u001b[39m\u001b[39m.\u001b[39m_minor_tick_kw\n\u001b[0;32m-> 2057\u001b[0m \u001b[39mreturn\u001b[39;00m XTick(\u001b[39mself\u001b[39;49m\u001b[39m.\u001b[39;49maxes, \u001b[39m0\u001b[39;49m, major\u001b[39m=\u001b[39;49mmajor, \u001b[39m*\u001b[39;49m\u001b[39m*\u001b[39;49mtick_kw)\n",
      "File \u001b[0;32m~/miniconda3/lib/python3.8/site-packages/matplotlib/axis.py:420\u001b[0m, in \u001b[0;36mXTick.__init__\u001b[0;34m(self, *args, **kwargs)\u001b[0m\n\u001b[1;32m    417\u001b[0m ax \u001b[39m=\u001b[39m \u001b[39mself\u001b[39m\u001b[39m.\u001b[39maxes\n\u001b[1;32m    418\u001b[0m \u001b[39mself\u001b[39m\u001b[39m.\u001b[39mtick1line\u001b[39m.\u001b[39mset(\n\u001b[1;32m    419\u001b[0m     data\u001b[39m=\u001b[39m([\u001b[39m0\u001b[39m], [\u001b[39m0\u001b[39m]), transform\u001b[39m=\u001b[39max\u001b[39m.\u001b[39mget_xaxis_transform(\u001b[39m\"\u001b[39m\u001b[39mtick1\u001b[39m\u001b[39m\"\u001b[39m))\n\u001b[0;32m--> 420\u001b[0m \u001b[39mself\u001b[39;49m\u001b[39m.\u001b[39;49mtick2line\u001b[39m.\u001b[39;49mset(\n\u001b[1;32m    421\u001b[0m     data\u001b[39m=\u001b[39;49m([\u001b[39m0\u001b[39;49m], [\u001b[39m1\u001b[39;49m]), transform\u001b[39m=\u001b[39;49max\u001b[39m.\u001b[39;49mget_xaxis_transform(\u001b[39m\"\u001b[39;49m\u001b[39mtick2\u001b[39;49m\u001b[39m\"\u001b[39;49m))\n\u001b[1;32m    422\u001b[0m \u001b[39mself\u001b[39m\u001b[39m.\u001b[39mgridline\u001b[39m.\u001b[39mset(\n\u001b[1;32m    423\u001b[0m     data\u001b[39m=\u001b[39m([\u001b[39m0\u001b[39m, \u001b[39m0\u001b[39m], [\u001b[39m0\u001b[39m, \u001b[39m1\u001b[39m]), transform\u001b[39m=\u001b[39max\u001b[39m.\u001b[39mget_xaxis_transform(\u001b[39m\"\u001b[39m\u001b[39mgrid\u001b[39m\u001b[39m\"\u001b[39m))\n\u001b[1;32m    424\u001b[0m \u001b[39m# the y loc is 3 points below the min of y axis\u001b[39;00m\n",
      "File \u001b[0;32m~/miniconda3/lib/python3.8/site-packages/matplotlib/artist.py:116\u001b[0m, in \u001b[0;36mArtist.__init_subclass__.<locals>.<lambda>\u001b[0;34m(self, **kwargs)\u001b[0m\n\u001b[1;32m    108\u001b[0m \u001b[39mif\u001b[39;00m \u001b[39mnot\u001b[39;00m \u001b[39mhasattr\u001b[39m(\u001b[39mcls\u001b[39m\u001b[39m.\u001b[39mset, \u001b[39m'\u001b[39m\u001b[39m_autogenerated_signature\u001b[39m\u001b[39m'\u001b[39m):\n\u001b[1;32m    109\u001b[0m     \u001b[39m# Don't overwrite cls.set if the subclass or one of its parents\u001b[39;00m\n\u001b[1;32m    110\u001b[0m     \u001b[39m# has defined a set method set itself.\u001b[39;00m\n\u001b[1;32m    111\u001b[0m     \u001b[39m# If there was no explicit definition, cls.set is inherited from\u001b[39;00m\n\u001b[1;32m    112\u001b[0m     \u001b[39m# the hierarchy of auto-generated set methods, which hold the\u001b[39;00m\n\u001b[1;32m    113\u001b[0m     \u001b[39m# flag _autogenerated_signature.\u001b[39;00m\n\u001b[1;32m    114\u001b[0m     \u001b[39mreturn\u001b[39;00m\n\u001b[0;32m--> 116\u001b[0m \u001b[39mcls\u001b[39m\u001b[39m.\u001b[39mset \u001b[39m=\u001b[39m \u001b[39mlambda\u001b[39;00m \u001b[39mself\u001b[39m, \u001b[39m*\u001b[39m\u001b[39m*\u001b[39mkwargs: Artist\u001b[39m.\u001b[39;49mset(\u001b[39mself\u001b[39;49m, \u001b[39m*\u001b[39;49m\u001b[39m*\u001b[39;49mkwargs)\n\u001b[1;32m    117\u001b[0m \u001b[39mcls\u001b[39m\u001b[39m.\u001b[39mset\u001b[39m.\u001b[39m\u001b[39m__name__\u001b[39m \u001b[39m=\u001b[39m \u001b[39m\"\u001b[39m\u001b[39mset\u001b[39m\u001b[39m\"\u001b[39m\n\u001b[1;32m    118\u001b[0m \u001b[39mcls\u001b[39m\u001b[39m.\u001b[39mset\u001b[39m.\u001b[39m\u001b[39m__qualname__\u001b[39m \u001b[39m=\u001b[39m \u001b[39mf\u001b[39m\u001b[39m\"\u001b[39m\u001b[39m{\u001b[39;00m\u001b[39mcls\u001b[39m\u001b[39m.\u001b[39m\u001b[39m__qualname__\u001b[39m\u001b[39m}\u001b[39;00m\u001b[39m.set\u001b[39m\u001b[39m\"\u001b[39m\n",
      "File \u001b[0;32m~/miniconda3/lib/python3.8/site-packages/matplotlib/artist.py:1164\u001b[0m, in \u001b[0;36mArtist.set\u001b[0;34m(self, **kwargs)\u001b[0m\n\u001b[1;32m   1159\u001b[0m \u001b[39mdef\u001b[39;00m \u001b[39mset\u001b[39m(\u001b[39mself\u001b[39m, \u001b[39m*\u001b[39m\u001b[39m*\u001b[39mkwargs):\n\u001b[1;32m   1160\u001b[0m     \u001b[39m# docstring and signature are auto-generated via\u001b[39;00m\n\u001b[1;32m   1161\u001b[0m     \u001b[39m# Artist._update_set_signature_and_docstring() at the end of the\u001b[39;00m\n\u001b[1;32m   1162\u001b[0m     \u001b[39m# module.\u001b[39;00m\n\u001b[1;32m   1163\u001b[0m     kwargs \u001b[39m=\u001b[39m cbook\u001b[39m.\u001b[39mnormalize_kwargs(kwargs, \u001b[39mself\u001b[39m)\n\u001b[0;32m-> 1164\u001b[0m     \u001b[39mreturn\u001b[39;00m \u001b[39mself\u001b[39;49m\u001b[39m.\u001b[39;49mupdate(kwargs)\n",
      "File \u001b[0;32m~/miniconda3/lib/python3.8/site-packages/matplotlib/artist.py:1066\u001b[0m, in \u001b[0;36mArtist.update\u001b[0;34m(self, props)\u001b[0m\n\u001b[1;32m   1063\u001b[0m             \u001b[39mif\u001b[39;00m \u001b[39mnot\u001b[39;00m callable(func):\n\u001b[1;32m   1064\u001b[0m                 \u001b[39mraise\u001b[39;00m \u001b[39mAttributeError\u001b[39;00m(\u001b[39mf\u001b[39m\u001b[39m\"\u001b[39m\u001b[39m{\u001b[39;00m\u001b[39mtype\u001b[39m(\u001b[39mself\u001b[39m)\u001b[39m.\u001b[39m\u001b[39m__name__\u001b[39m\u001b[39m!r}\u001b[39;00m\u001b[39m object \u001b[39m\u001b[39m\"\u001b[39m\n\u001b[1;32m   1065\u001b[0m                                      \u001b[39mf\u001b[39m\u001b[39m\"\u001b[39m\u001b[39mhas no property \u001b[39m\u001b[39m{\u001b[39;00mk\u001b[39m!r}\u001b[39;00m\u001b[39m\"\u001b[39m)\n\u001b[0;32m-> 1066\u001b[0m             ret\u001b[39m.\u001b[39mappend(func(v))\n\u001b[1;32m   1067\u001b[0m \u001b[39mif\u001b[39;00m ret:\n\u001b[1;32m   1068\u001b[0m     \u001b[39mself\u001b[39m\u001b[39m.\u001b[39mpchanged()\n",
      "File \u001b[0;32m~/miniconda3/lib/python3.8/site-packages/matplotlib/lines.py:717\u001b[0m, in \u001b[0;36mLine2D.set_transform\u001b[0;34m(self, t)\u001b[0m\n\u001b[1;32m    715\u001b[0m \u001b[39mself\u001b[39m\u001b[39m.\u001b[39m_invalidx \u001b[39m=\u001b[39m \u001b[39mTrue\u001b[39;00m\n\u001b[1;32m    716\u001b[0m \u001b[39mself\u001b[39m\u001b[39m.\u001b[39m_invalidy \u001b[39m=\u001b[39m \u001b[39mTrue\u001b[39;00m\n\u001b[0;32m--> 717\u001b[0m \u001b[39msuper\u001b[39;49m()\u001b[39m.\u001b[39;49mset_transform(t)\n",
      "File \u001b[0;32m~/miniconda3/lib/python3.8/site-packages/matplotlib/artist.py:436\u001b[0m, in \u001b[0;36mArtist.set_transform\u001b[0;34m(self, t)\u001b[0m\n\u001b[1;32m    434\u001b[0m \u001b[39mself\u001b[39m\u001b[39m.\u001b[39m_transform \u001b[39m=\u001b[39m t\n\u001b[1;32m    435\u001b[0m \u001b[39mself\u001b[39m\u001b[39m.\u001b[39m_transformSet \u001b[39m=\u001b[39m \u001b[39mTrue\u001b[39;00m\n\u001b[0;32m--> 436\u001b[0m \u001b[39mself\u001b[39;49m\u001b[39m.\u001b[39;49mpchanged()\n\u001b[1;32m    437\u001b[0m \u001b[39mself\u001b[39m\u001b[39m.\u001b[39mstale \u001b[39m=\u001b[39m \u001b[39mTrue\u001b[39;00m\n",
      "File \u001b[0;32m~/miniconda3/lib/python3.8/site-packages/matplotlib/artist.py:416\u001b[0m, in \u001b[0;36mArtist.pchanged\u001b[0;34m(self)\u001b[0m\n\u001b[1;32m    405\u001b[0m \u001b[39mdef\u001b[39;00m \u001b[39mpchanged\u001b[39m(\u001b[39mself\u001b[39m):\n\u001b[1;32m    406\u001b[0m     \u001b[39m\"\"\"\u001b[39;00m\n\u001b[1;32m    407\u001b[0m \u001b[39m    Call all of the registered callbacks.\u001b[39;00m\n\u001b[1;32m    408\u001b[0m \n\u001b[0;32m   (...)\u001b[0m\n\u001b[1;32m    414\u001b[0m \u001b[39m    remove_callback\u001b[39;00m\n\u001b[1;32m    415\u001b[0m \u001b[39m    \"\"\"\u001b[39;00m\n\u001b[0;32m--> 416\u001b[0m     \u001b[39mself\u001b[39;49m\u001b[39m.\u001b[39;49m_callbacks\u001b[39m.\u001b[39;49mprocess(\u001b[39m\"\u001b[39;49m\u001b[39mpchanged\u001b[39;49m\u001b[39m\"\u001b[39;49m)\n",
      "File \u001b[0;32m~/miniconda3/lib/python3.8/site-packages/matplotlib/cbook/__init__.py:283\u001b[0m, in \u001b[0;36mCallbackRegistry.process\u001b[0;34m(self, s, *args, **kwargs)\u001b[0m\n\u001b[1;32m    276\u001b[0m \u001b[39mdef\u001b[39;00m \u001b[39mprocess\u001b[39m(\u001b[39mself\u001b[39m, s, \u001b[39m*\u001b[39margs, \u001b[39m*\u001b[39m\u001b[39m*\u001b[39mkwargs):\n\u001b[1;32m    277\u001b[0m     \u001b[39m\"\"\"\u001b[39;00m\n\u001b[1;32m    278\u001b[0m \u001b[39m    Process signal *s*.\u001b[39;00m\n\u001b[1;32m    279\u001b[0m \n\u001b[1;32m    280\u001b[0m \u001b[39m    All of the functions registered to receive callbacks on *s* will be\u001b[39;00m\n\u001b[1;32m    281\u001b[0m \u001b[39m    called with ``*args`` and ``**kwargs``.\u001b[39;00m\n\u001b[1;32m    282\u001b[0m \u001b[39m    \"\"\"\u001b[39;00m\n\u001b[0;32m--> 283\u001b[0m     \u001b[39mfor\u001b[39;00m cid, ref \u001b[39min\u001b[39;00m \u001b[39mlist\u001b[39;49m(\u001b[39mself\u001b[39;49m\u001b[39m.\u001b[39;49mcallbacks\u001b[39m.\u001b[39;49mget(s, {})\u001b[39m.\u001b[39;49mitems()):\n\u001b[1;32m    284\u001b[0m         func \u001b[39m=\u001b[39m ref()\n\u001b[1;32m    285\u001b[0m         \u001b[39mif\u001b[39;00m func \u001b[39mis\u001b[39;00m \u001b[39mnot\u001b[39;00m \u001b[39mNone\u001b[39;00m:\n",
      "\u001b[0;31mKeyboardInterrupt\u001b[0m: "
     ]
    },
    {
     "data": {
      "text/plain": [
       "<Figure size 432x288 with 0 Axes>"
      ]
     },
     "metadata": {},
     "output_type": "display_data"
    }
   ],
   "source": [
    "def normalize_array(array):\n",
    "    min_value = np.min(array)\n",
    "    max_value = np.max(array)\n",
    "    normalized_array = (array - min_value) / (max_value - min_value)\n",
    "    return normalized_array\n",
    "data = pd.read_csv('/root/autodl-tmp/MR_csv/IDH/gene_TCGA_information.csv')\n",
    "X = data['TOX2'].values\n",
    "X_processing = normalize_array(X)\n",
    "data['TOX2'] = X_processing\n",
    "data.drop_duplicates('name', inplace=True)\n",
    "for mean in data['TOX2']:\n",
    "   x=np.arange(0,1.2,0.1)\n",
    "   y = gaussian_prob(x,mean,0.2)\n"
   ]
  },
  {
   "cell_type": "code",
   "execution_count": 25,
   "metadata": {},
   "outputs": [
    {
     "data": {
      "text/html": [
       "<div>\n",
       "<style scoped>\n",
       "    .dataframe tbody tr th:only-of-type {\n",
       "        vertical-align: middle;\n",
       "    }\n",
       "\n",
       "    .dataframe tbody tr th {\n",
       "        vertical-align: top;\n",
       "    }\n",
       "\n",
       "    .dataframe thead th {\n",
       "        text-align: right;\n",
       "    }\n",
       "</style>\n",
       "<table border=\"1\" class=\"dataframe\">\n",
       "  <thead>\n",
       "    <tr style=\"text-align: right;\">\n",
       "      <th></th>\n",
       "      <th>name</th>\n",
       "      <th>TOX2</th>\n",
       "      <th>survival_day</th>\n",
       "      <th>status_dead</th>\n",
       "    </tr>\n",
       "  </thead>\n",
       "  <tbody>\n",
       "    <tr>\n",
       "      <th>0</th>\n",
       "      <td>TCGA-02-0047</td>\n",
       "      <td>0.641640</td>\n",
       "      <td>448.0</td>\n",
       "      <td>1.0</td>\n",
       "    </tr>\n",
       "    <tr>\n",
       "      <th>1</th>\n",
       "      <td>TCGA-06-0129</td>\n",
       "      <td>0.748673</td>\n",
       "      <td>1024.0</td>\n",
       "      <td>1.0</td>\n",
       "    </tr>\n",
       "    <tr>\n",
       "      <th>2</th>\n",
       "      <td>TCGA-06-0130</td>\n",
       "      <td>0.436552</td>\n",
       "      <td>394.0</td>\n",
       "      <td>1.0</td>\n",
       "    </tr>\n",
       "    <tr>\n",
       "      <th>3</th>\n",
       "      <td>TCGA-06-0138</td>\n",
       "      <td>0.374542</td>\n",
       "      <td>737.0</td>\n",
       "      <td>1.0</td>\n",
       "    </tr>\n",
       "    <tr>\n",
       "      <th>4</th>\n",
       "      <td>TCGA-06-0139</td>\n",
       "      <td>0.180284</td>\n",
       "      <td>362.0</td>\n",
       "      <td>1.0</td>\n",
       "    </tr>\n",
       "    <tr>\n",
       "      <th>...</th>\n",
       "      <td>...</td>\n",
       "      <td>...</td>\n",
       "      <td>...</td>\n",
       "      <td>...</td>\n",
       "    </tr>\n",
       "    <tr>\n",
       "      <th>106</th>\n",
       "      <td>TCGA-DU-5854</td>\n",
       "      <td>0.621363</td>\n",
       "      <td>252.0</td>\n",
       "      <td>0.0</td>\n",
       "    </tr>\n",
       "    <tr>\n",
       "      <th>107</th>\n",
       "      <td>TCGA-DU-6397</td>\n",
       "      <td>0.478810</td>\n",
       "      <td>1380.0</td>\n",
       "      <td>1.0</td>\n",
       "    </tr>\n",
       "    <tr>\n",
       "      <th>109</th>\n",
       "      <td>TCGA-DU-6410</td>\n",
       "      <td>0.646180</td>\n",
       "      <td>240.0</td>\n",
       "      <td>0.0</td>\n",
       "    </tr>\n",
       "    <tr>\n",
       "      <th>110</th>\n",
       "      <td>TCGA-DU-7010</td>\n",
       "      <td>0.722547</td>\n",
       "      <td>450.0</td>\n",
       "      <td>1.0</td>\n",
       "    </tr>\n",
       "    <tr>\n",
       "      <th>111</th>\n",
       "      <td>TCGA-DU-A6S6</td>\n",
       "      <td>0.842888</td>\n",
       "      <td>2337.0</td>\n",
       "      <td>0.0</td>\n",
       "    </tr>\n",
       "  </tbody>\n",
       "</table>\n",
       "<p>108 rows × 4 columns</p>\n",
       "</div>"
      ],
      "text/plain": [
       "             name      TOX2  survival_day  status_dead\n",
       "0    TCGA-02-0047  0.641640         448.0          1.0\n",
       "1    TCGA-06-0129  0.748673        1024.0          1.0\n",
       "2    TCGA-06-0130  0.436552         394.0          1.0\n",
       "3    TCGA-06-0138  0.374542         737.0          1.0\n",
       "4    TCGA-06-0139  0.180284         362.0          1.0\n",
       "..            ...       ...           ...          ...\n",
       "106  TCGA-DU-5854  0.621363         252.0          0.0\n",
       "107  TCGA-DU-6397  0.478810        1380.0          1.0\n",
       "109  TCGA-DU-6410  0.646180         240.0          0.0\n",
       "110  TCGA-DU-7010  0.722547         450.0          1.0\n",
       "111  TCGA-DU-A6S6  0.842888        2337.0          0.0\n",
       "\n",
       "[108 rows x 4 columns]"
      ]
     },
     "execution_count": 25,
     "metadata": {},
     "output_type": "execute_result"
    }
   ],
   "source": []
  },
  {
   "cell_type": "code",
   "execution_count": 3,
   "metadata": {},
   "outputs": [],
   "source": [
    "def normalize_array(array):\n",
    "    min_value = np.min(array)\n",
    "    max_value = np.max(array)\n",
    "    normalized_array = (array - min_value) / (max_value - min_value)\n",
    "    return normalized_array\n",
    "data = pd.read_csv('/root/autodl-tmp/MR_csv/IDH/gene_TCGA_information.csv')\n",
    "X = data['TOX2'].values\n",
    "X_processing = normalize_array(X)\n",
    "data['TOX2'] = X_processing\n",
    "data.drop_duplicates('name', inplace=True)\n",
    "base_dir = '/root/autodl-tmp/glioma_T1_information'\n",
    "img_dir, mask_dir, label = [], [], []\n",
    "for name in data['name']:\n",
    "    current_dir = os.path.join(base_dir, name + '_T1_CE_1mm')\n",
    "    for file in os.listdir(current_dir):\n",
    "        sub_dir = os.path.join(current_dir, file)\n",
    "        if 'correct' in file:\n",
    "            img_dir.append(sub_dir)\n",
    "        elif 'label' in file:\n",
    "            mask_dir.append(sub_dir)\n",
    "    day = data[data['name'] == name]['TOX2'].values.squeeze().tolist()\n",
    "    x=np.arange(0,1.2,0.1)\n",
    "    y = gaussian_prob(x,day,0.2)\n",
    "    label.append(y)"
   ]
  },
  {
   "cell_type": "code",
   "execution_count": 10,
   "metadata": {},
   "outputs": [
    {
     "data": {
      "text/plain": [
       "108"
      ]
     },
     "execution_count": 10,
     "metadata": {},
     "output_type": "execute_result"
    }
   ],
   "source": [
    "len(label)"
   ]
  },
  {
   "cell_type": "code",
   "execution_count": 11,
   "metadata": {},
   "outputs": [],
   "source": [
    "train_img, train_mask, train_label, test_img, test_mask, test_label = split_train_test(img_dir, mask_dir, label)\n",
    "save_path = '/root/autodl-tmp/MR_csv/IDH'\n",
    "save_npy(os.path.join(save_path,'glioma_TCGA_train_img.npy'), train_img)\n",
    "save_npy(os.path.join(save_path,'glioma_TCGA_train_mask.npy'), train_mask)\n",
    "save_npy(os.path.join(save_path,'glioma_TCGA_train_label.npy'), train_label)\n",
    "save_npy(os.path.join(save_path,'glioma_TCGA_test_img.npy'), test_img)\n",
    "save_npy(os.path.join(save_path,'glioma_TCGA_test_mask.npy'), test_mask)\n",
    "save_npy(os.path.join(save_path,'glioma_TCGA_test_label.npy'), test_label)"
   ]
  }
 ],
 "metadata": {
  "kernelspec": {
   "display_name": "base",
   "language": "python",
   "name": "python3"
  },
  "language_info": {
   "codemirror_mode": {
    "name": "ipython",
    "version": 3
   },
   "file_extension": ".py",
   "mimetype": "text/x-python",
   "name": "python",
   "nbconvert_exporter": "python",
   "pygments_lexer": "ipython3",
   "version": "3.8.10"
  },
  "orig_nbformat": 4
 },
 "nbformat": 4,
 "nbformat_minor": 2
}
