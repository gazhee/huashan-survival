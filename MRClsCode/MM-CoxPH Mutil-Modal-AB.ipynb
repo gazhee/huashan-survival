{
 "cells": [
  {
   "cell_type": "code",
   "execution_count": 2,
   "metadata": {},
   "outputs": [],
   "source": [
    "import torch\n",
    "import os\n",
    "import h5py\n",
    "import pandas as pd\n",
    "import numpy as np\n",
    "import shutil\n",
    "from sklearn.model_selection import train_test_split\n",
    "from utils.PathDataset import Pathology_Dataset_test\n",
    "from torch.utils.data import Dataset, DataLoader\n",
    "from utils.T1Dataset import T1Dataset_regression_mr_path_test\n",
    "from models.SENet import Model_path_mr\n",
    "from lifelines.utils import concordance_index\n",
    "from models.MLP import MLP\n",
    "import torch\n",
    "import torchtuples as tt\n",
    "from utils.img_processing import convert_path,normalize_min_max\n",
    "from pycox.datasets import metabric\n",
    "from pycox.models import CoxPH\n",
    "from pycox.evaluation import EvalSurv\n",
    "import matplotlib.pyplot as plt"
   ]
  },
  {
   "cell_type": "code",
   "execution_count": 3,
   "metadata": {},
   "outputs": [],
   "source": [
    "df = pd.read_csv('G:\\glioma\\\\final_data\\glioma_survive\\\\5hmc\\huashan_5hmc_.csv')"
   ]
  },
  {
   "cell_type": "code",
   "execution_count": 25,
   "metadata": {},
   "outputs": [
    {
     "data": {
      "text/html": [
       "<div>\n",
       "<style scoped>\n",
       "    .dataframe tbody tr th:only-of-type {\n",
       "        vertical-align: middle;\n",
       "    }\n",
       "\n",
       "    .dataframe tbody tr th {\n",
       "        vertical-align: top;\n",
       "    }\n",
       "\n",
       "    .dataframe thead th {\n",
       "        text-align: right;\n",
       "    }\n",
       "</style>\n",
       "<table border=\"1\" class=\"dataframe\">\n",
       "  <thead>\n",
       "    <tr style=\"text-align: right;\">\n",
       "      <th></th>\n",
       "      <th>patient</th>\n",
       "      <th>score_gene</th>\n",
       "      <th>score</th>\n",
       "      <th>IDH</th>\n",
       "      <th>WHO</th>\n",
       "      <th>Age</th>\n",
       "      <th>Gender</th>\n",
       "      <th>survival_month</th>\n",
       "      <th>status_dead</th>\n",
       "    </tr>\n",
       "  </thead>\n",
       "  <tbody>\n",
       "    <tr>\n",
       "      <th>0</th>\n",
       "      <td>Pan_Jing_Wei</td>\n",
       "      <td>0.457889</td>\n",
       "      <td>0.186934</td>\n",
       "      <td>0</td>\n",
       "      <td>4</td>\n",
       "      <td>36.0</td>\n",
       "      <td>1</td>\n",
       "      <td>27.13</td>\n",
       "      <td>1</td>\n",
       "    </tr>\n",
       "  </tbody>\n",
       "</table>\n",
       "</div>"
      ],
      "text/plain": [
       "        patient  score_gene     score  IDH  WHO   Age  Gender  survival_month  \\\n",
       "0  Pan_Jing_Wei    0.457889  0.186934    0    4  36.0       1           27.13   \n",
       "\n",
       "   status_dead  \n",
       "0            1  "
      ]
     },
     "execution_count": 25,
     "metadata": {},
     "output_type": "execute_result"
    }
   ],
   "source": [
    "df.head(1)"
   ]
  },
  {
   "cell_type": "code",
   "execution_count": 4,
   "metadata": {},
   "outputs": [],
   "source": [
    "df_train_, df_test, y_train, y_test = train_test_split(df,df['patient'],test_size=0.2,random_state=201)\n",
    "df_train, df_val, y_train, y_test = train_test_split(df_train_,df_train_['patient'],test_size=0.2,random_state=2018)\n",
    "df_train_[['score','WHO','Age','Gender','IDH','score_gene']] = df_train_[['score','WHO','Age','Gender','IDH','score_gene']].astype('float32')\n",
    "get_target = lambda df_train_: (df_train_['survival_month'].values, df_train_['status_dead'].values)\n",
    "y_train = get_target(df_train_)\n",
    "train_feature = df_train_[['score','WHO','Age','Gender','IDH','score_gene']].values\n",
    "\n",
    "df_test[['score','WHO','Age','Gender','IDH','score_gene']] = df_test[['score','WHO','Age','Gender','IDH','score_gene']].astype('float32')\n",
    "val_feature = df_test[['score','WHO','Age','Gender','IDH','score_gene']].values\n",
    "get_target = lambda df_test: (df_test['survival_month'].values, df_test['status_dead'].values)\n",
    "y_val = get_target(df_test)\n",
    "val = tt.tuplefy(val_feature, y_val)\n",
    "\n",
    "def calculate_param(df_TCGA_loc_M, model_cph1):\n",
    "    df_TCGA_loc_M[['score','WHO','Age','Gender','IDH','score_gene']] = df_TCGA_loc_M[['score','WHO','Age','Gender','IDH','score_gene']].astype('float32')\n",
    "    feature_TCGA_loc_M = df_TCGA_loc_M[['score','WHO','Age','Gender','IDH','score_gene']].values\n",
    "    get_target = lambda df_TCGA_loc_M: (df_TCGA_loc_M['survival_month'].values, df_TCGA_loc_M['status_dead'].values)\n",
    "    durations_test_ex, events_test_ex = get_target(df_TCGA_loc_M)\n",
    "    _ = model_cph1.compute_baseline_hazards()\n",
    "    surv = model_cph1.predict_surv_df(feature_TCGA_loc_M)\n",
    "    ev = EvalSurv(surv, durations_test_ex, events_test_ex, censor_surv='km')\n",
    "    time_grid = np.linspace(durations_test_ex.min(), durations_test_ex.max(), 100)\n",
    "    return ev.concordance_td(),ev.integrated_brier_score(time_grid)"
   ]
  },
  {
   "cell_type": "code",
   "execution_count": 5,
   "metadata": {},
   "outputs": [],
   "source": [
    "df_train_.to_csv('G:/glioma/final_data/glioma_survive/5hmc/result/train.csv',index = False)\n",
    "df_val.to_csv('G:/glioma/final_data/glioma_survive/5hmc/result/val.csv',index = False)\n",
    "df_test.to_csv('G:/glioma/final_data/glioma_survive/5hmc/result/test.csv',index = False)"
   ]
  },
  {
   "cell_type": "code",
   "execution_count": 77,
   "metadata": {},
   "outputs": [
    {
     "name": "stdout",
     "output_type": "stream",
     "text": [
      "0:\t[0s / 0s],\t\ttrain_loss: 1.7786,\tval_loss: 1.2806\n",
      "1:\t[0s / 0s],\t\ttrain_loss: 1.5992,\tval_loss: 1.2466\n",
      "2:\t[0s / 0s],\t\ttrain_loss: 1.4896,\tval_loss: 1.2239\n",
      "3:\t[0s / 0s],\t\ttrain_loss: 1.7816,\tval_loss: 1.0581\n",
      "4:\t[0s / 0s],\t\ttrain_loss: 1.7482,\tval_loss: 1.0321\n",
      "5:\t[0s / 0s],\t\ttrain_loss: 1.5601,\tval_loss: 1.0108\n",
      "6:\t[0s / 0s],\t\ttrain_loss: 1.3694,\tval_loss: 1.1309\n",
      "7:\t[0s / 0s],\t\ttrain_loss: 1.6642,\tval_loss: 1.0493\n",
      "8:\t[0s / 0s],\t\ttrain_loss: 1.5358,\tval_loss: 1.0222\n",
      "9:\t[0s / 0s],\t\ttrain_loss: 1.6028,\tval_loss: 1.0886\n",
      "10:\t[0s / 0s],\t\ttrain_loss: 1.4705,\tval_loss: 1.1238\n",
      "11:\t[0s / 0s],\t\ttrain_loss: 1.5246,\tval_loss: 1.1350\n",
      "12:\t[0s / 0s],\t\ttrain_loss: 1.4598,\tval_loss: 1.0533\n",
      "13:\t[0s / 0s],\t\ttrain_loss: 1.4071,\tval_loss: 0.9883\n",
      "14:\t[0s / 0s],\t\ttrain_loss: 1.4150,\tval_loss: 0.9092\n",
      "15:\t[0s / 0s],\t\ttrain_loss: 1.4681,\tval_loss: 0.9545\n",
      "16:\t[0s / 0s],\t\ttrain_loss: 1.6088,\tval_loss: 1.0098\n",
      "17:\t[0s / 1s],\t\ttrain_loss: 1.5006,\tval_loss: 1.0397\n",
      "18:\t[0s / 1s],\t\ttrain_loss: 1.3390,\tval_loss: 0.9543\n",
      "19:\t[0s / 1s],\t\ttrain_loss: 1.4581,\tval_loss: 0.9324\n",
      "20:\t[0s / 1s],\t\ttrain_loss: 1.5511,\tval_loss: 1.0434\n",
      "21:\t[0s / 1s],\t\ttrain_loss: 1.2213,\tval_loss: 1.1307\n",
      "22:\t[0s / 1s],\t\ttrain_loss: 1.3970,\tval_loss: 1.1269\n",
      "23:\t[0s / 1s],\t\ttrain_loss: 1.4038,\tval_loss: 1.0703\n",
      "24:\t[0s / 1s],\t\ttrain_loss: 1.2797,\tval_loss: 1.0721\n"
     ]
    },
    {
     "data": {
      "image/png": "[encoded data removed]",
      "text/plain": [
       "<Figure size 640x480 with 1 Axes>"
      ]
     },
     "metadata": {},
     "output_type": "display_data"
    }
   ],
   "source": [
    "in_features = train_feature.shape[1]\n",
    "num_nodes = [32, 32]\n",
    "out_features = 1\n",
    "batch_norm = True\n",
    "dropout = 0.1\n",
    "output_bias = False\n",
    "\n",
    "net = tt.practical.MLPVanilla(in_features, num_nodes, out_features, batch_norm,\n",
    "                              dropout, output_bias=output_bias)\n",
    "model_cph = CoxPH(net, tt.optim.Adam)\n",
    "batch_size = 10\n",
    "lrfinder = model_cph.lr_finder(train_feature, y_train, batch_size, tolerance=10)\n",
    "# _ = lrfinder.plot()\n",
    "model_cph.optimizer.set_lr(lrfinder.get_best_lr())\n",
    "epochs = 30\n",
    "callbacks = [tt.callbacks.EarlyStopping()]\n",
    "verbose = True\n",
    "log = model_cph.fit(train_feature, y_train, batch_size, epochs, callbacks, verbose,\n",
    "                val_data=val, val_batch_size=batch_size)\n",
    "_ = log.plot()"
   ]
  },
  {
   "cell_type": "code",
   "execution_count": 80,
   "metadata": {},
   "outputs": [
    {
     "name": "stdout",
     "output_type": "stream",
     "text": [
      "MM-CoxPH Mutil-Modal-AB\n",
      "Huashan-Test-Set (c-index, brier scores) (0.8823529411764706, 0.18512555873571884)\n"
     ]
    }
   ],
   "source": [
    "print(\"MM-CoxPH Mutil-Modal-AB\")\n",
    "print(\"Huashan-Test-Set (c-index, brier scores)\",calculate_param(df_test,model_cph))"
   ]
  },
  {
   "cell_type": "code",
   "execution_count": 79,
   "metadata": {},
   "outputs": [],
   "source": [
    "model_cph.save_net(os.path.join('G:\\glioma\\\\final_data\\glioma_survive\\\\5hmc\\pth','MM-CoxPH Mutil-Modal-AB.pth'))"
   ]
  }
 ],
 "metadata": {
  "kernelspec": {
   "display_name": "base",
   "language": "python",
   "name": "python3"
  },
  "language_info": {
   "codemirror_mode": {
    "name": "ipython",
    "version": 3
   },
   "file_extension": ".py",
   "mimetype": "text/x-python",
   "name": "python",
   "nbconvert_exporter": "python",
   "pygments_lexer": "ipython3",
   "version": "3.9.7"
  }
 },
 "nbformat": 4,
 "nbformat_minor": 2
}
